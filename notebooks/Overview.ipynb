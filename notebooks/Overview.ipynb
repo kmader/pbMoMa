{
 "cells": [
  {
   "cell_type": "markdown",
   "metadata": {},
   "source": [
    "## Overview"
   ]
  },
  {
   "cell_type": "code",
   "execution_count": null,
   "metadata": {},
   "outputs": [],
   "source": [
    "# maximum nr of frames to process\n",
    "maxFrames = 60\n",
    "# the size of the sliding window\n",
    "windowSize = 30\n",
    "# the magnifaction factor\n",
    "factor = 20\n",
    "# the fps used for the bandpass\n",
    "fpsForBandPass = 600 # use -1 for input video fps\n",
    "# low ideal filter\n",
    "lowFreq = 72\n",
    "# high ideal filter\n",
    "highFreq = 92\n",
    "# output video filename"
   ]
  },
  {
   "cell_type": "code",
   "execution_count": 4,
   "metadata": {},
   "outputs": [],
   "source": [
    "import os, sys\n",
    "sys.path.append('..')\n",
    "from phasebasedMoMag import phaseBaseMagnify\n",
    "from pathlib import Path\n",
    "video_folder = Path('..') / 'media'\n",
    "out_folder = Path('.')"
   ]
  },
  {
   "cell_type": "code",
   "execution_count": 7,
   "metadata": {},
   "outputs": [],
   "source": [
    "video_paths = list(video_folder.glob('*.mp4'))\n",
    "print(video_paths)"
   ]
  },
  {
   "cell_type": "code",
   "execution_count": null,
   "metadata": {},
   "outputs": [],
   "source": [
    "for vidFname in video_paths:\n",
    "    vidFnameOut = out_folder / '{}-Mag{}Ideal-lo{}-hi{}.mp4'(vidFname.stem, factor, lowFreq, highFreq)\n",
    "    phaseBasedMagnify(str(vidFname), str(vidFnameOut), \n",
    "                      maxFrames, windowSize, factor, fpsForBandPass, lowFreq, highFreq)"
   ]
  }
 ],
 "metadata": {
  "kernelspec": {
   "display_name": "Python 2",
   "language": "python",
   "name": "python2"
  },
  "language_info": {
   "codemirror_mode": {
    "name": "ipython",
    "version": 2
   },
   "file_extension": ".py",
   "mimetype": "text/x-python",
   "name": "python",
   "nbconvert_exporter": "python",
   "pygments_lexer": "ipython2",
   "version": "2.7.16"
  }
 },
 "nbformat": 4,
 "nbformat_minor": 2
}
